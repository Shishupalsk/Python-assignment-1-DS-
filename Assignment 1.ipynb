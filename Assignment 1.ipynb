{
 "cells": [
  {
   "cell_type": "markdown",
   "id": "b0c69efd-cf30-44c2-9432-23f72431b58d",
   "metadata": {},
   "source": [
    "Assignment\n",
    "\n",
    " Q1.  Explain with an example each when to use a for loop and a while loop.\n",
    " Q2.  Write a python program to print the sum and product of the first 10 natural numbers using for \n",
    "      and while loop.\n",
    " Q3. Create a python program to compute the electricity bill for a household.\n",
    "     The per-unit charges in rupees are as follows: For the first 100 units, the user will be charged Rs. 4.5 per \n",
    "     unit, for the next 100 units, the user will be charged Rs. 6 per unit, and for the next 100 units, the user will \n",
    "     be charged Rs. 10 per unit, After 300 units and above the user will be charged Rs. 20 per unit.\n",
    "     You are required to take the units of electricity consumed in a month from the user as input.\n",
    "     Your program must pass this test case: when the unit of electricity consumed by the user in a month is \n",
    "     310, the total electricity bill should be 2250.\n",
    " Q4. Create a list of numbers from 1 to 100. Use for loop and while loop to calculate the cube of each \n",
    "     number and if the cube of that number is divisible by 4 or 5 then append that number in a list and print \n",
    "     that list.\n",
    " Q5. Write a program to filter count vowels in the below-given string.\n",
    "     string = \"I want to become a data scientist\"\n"
   ]
  },
  {
   "cell_type": "markdown",
   "id": "79609fc9-dd92-41bd-b8b4-c17a89597a30",
   "metadata": {},
   "source": [
    "1) solution:-\n",
    "When to use a for loop:\n",
    "A for loop is typically used when you know the number of times you want to execute a block of code or when you want to iterate over a sequence (like a list, tuple, or range). It's structured to iterate over a sequence for a predetermined number of times.\n"
   ]
  },
  {
   "cell_type": "code",
   "execution_count": 2,
   "id": "724ec51d-c964-4709-889a-7831e521c047",
   "metadata": {},
   "outputs": [
    {
     "name": "stdout",
     "output_type": "stream",
     "text": [
      "1\n",
      "2\n",
      "3\n",
      "4\n",
      "5\n"
     ]
    }
   ],
   "source": [
    "# example \n",
    "# Print numbers from 1 to 5 using a for loop\n",
    "for i in range(1, 6):\n",
    "    print(i)\n",
    "# In this example, the for loop iterates over the range of numbers from 1 to 5 (inclusive) and prints each number."
   ]
  },
  {
   "cell_type": "markdown",
   "id": "36ec0629-799d-4720-993a-8e5e782b2de4",
   "metadata": {},
   "source": [
    "Solution:- \n",
    "When to use a while loop:\n",
    "A while loop is used when you want to execute a block of code repeatedly as long as a condition is true. It's useful when you don't know in advance how many times the loop needs to execute."
   ]
  },
  {
   "cell_type": "code",
   "execution_count": 3,
   "id": "0c5d4594-1058-4340-93cc-a0611150518c",
   "metadata": {},
   "outputs": [
    {
     "name": "stdout",
     "output_type": "stream",
     "text": [
      "1\n",
      "2\n",
      "3\n",
      "4\n",
      "5\n"
     ]
    }
   ],
   "source": [
    "# Print numbers from 1 to 5 using a while loop\n",
    "i = 1\n",
    "while i <= 5:\n",
    "    print(i)\n",
    "    i += 1\n",
    "# In this example, the while loop continues executing as long as the condition i <= 5 is true. It prints the value of i in each iteration and increments i by 1 after each iteration until i becomes greater than 5."
   ]
  },
  {
   "cell_type": "code",
   "execution_count": 8,
   "id": "7f94bd6f-11a7-4a70-a9f1-f3489543ae94",
   "metadata": {},
   "outputs": [
    {
     "name": "stdout",
     "output_type": "stream",
     "text": [
      "Sum using for loop: 55\n",
      "Product using for loop: 3628800\n",
      "\n",
      "Sum using while loop: 55\n",
      "Product using while loop: 3628800\n"
     ]
    }
   ],
   "source": [
    "# Using a for loop\n",
    "sum_for = 0\n",
    "product_for = 1\n",
    "\n",
    "for i in range(1, 11):\n",
    "    sum_for += i\n",
    "    product_for *= i\n",
    "\n",
    "print(\"Sum using for loop:\", sum_for)\n",
    "print(\"Product using for loop:\", product_for)\n",
    "\n",
    "# Using a while loop\n",
    "sum_while = 0\n",
    "product_while = 1\n",
    "counter = 1\n",
    "\n",
    "while counter <= 10:\n",
    "    sum_while += counter\n",
    "    product_while *= counter\n",
    "    counter += 1\n",
    "\n",
    "print(\"\\nSum using while loop:\", sum_while)\n",
    "print(\"Product using while loop:\", product_while)\n"
   ]
  },
  {
   "cell_type": "code",
   "execution_count": 10,
   "id": "0014815e-d6c1-4fac-9147-efcda236cc83",
   "metadata": {},
   "outputs": [
    {
     "name": "stdin",
     "output_type": "stream",
     "text": [
      "Enter the units of electricity consumed in a month:  310\n"
     ]
    },
    {
     "name": "stdout",
     "output_type": "stream",
     "text": [
      "The total electricity bill is: Rs. 2250.0\n"
     ]
    }
   ],
   "source": [
    "# 3:- SOLUTION\n",
    "\n",
    "# Per-unit charges\n",
    "charge_1 = 4.5\n",
    "charge_2 = 6\n",
    "charge_3 = 10\n",
    "charge_above_300 = 20\n",
    "\n",
    "# Fixed limits for different charge slabs\n",
    "limit_1 = 100\n",
    "limit_2 = 200\n",
    "limit_3 = 300\n",
    "\n",
    "# Taking input from the user\n",
    "units_consumed = int(input(\"Enter the units of electricity consumed in a month: \"))\n",
    "\n",
    "# Calculate the bill based on different slabs\n",
    "if units_consumed <= limit_1:\n",
    "    total_bill = units_consumed * charge_1\n",
    "elif units_consumed <= limit_2:\n",
    "    total_bill = limit_1 * charge_1 + (units_consumed - limit_1) * charge_2\n",
    "elif units_consumed <= limit_3:\n",
    "    total_bill = limit_1 * charge_1 + (limit_2 - limit_1) * charge_2 + (units_consumed - limit_2) * charge_3\n",
    "else:\n",
    "    total_bill = limit_1 * charge_1 + (limit_2 - limit_1) * charge_2 + (limit_3 - limit_2) * charge_3 + (\n",
    "            units_consumed - limit_3) * charge_above_300\n",
    "\n",
    "# Display the electricity bill\n",
    "print(f\"The total electricity bill is: Rs. {total_bill}\")\n"
   ]
  },
  {
   "cell_type": "code",
   "execution_count": 2,
   "id": "b58f857c-e2cf-43b4-8bf2-b9ce0b05134b",
   "metadata": {},
   "outputs": [
    {
     "name": "stdout",
     "output_type": "stream",
     "text": [
      "[2, 4, 5, 6, 8, 10, 12, 14, 15, 16, 18, 20, 22, 24, 25, 26, 28, 30, 32, 34, 35, 36, 38, 40, 42, 44, 45, 46, 48, 50, 52, 54, 55, 56, 58, 60, 62, 64, 65, 66, 68, 70, 72, 74, 75, 76, 78, 80, 82, 84, 85, 86, 88, 90, 92, 94, 95, 96, 98, 100]\n",
      "[2, 4, 5, 6, 8, 10, 12, 14, 15, 16, 18, 20, 22, 24, 25, 26, 28, 30, 32, 34, 35, 36, 38, 40, 42, 44, 45, 46, 48, 50, 52, 54, 55, 56, 58, 60, 62, 64, 65, 66, 68, 70, 72, 74, 75, 76, 78, 80, 82, 84, 85, 86, 88, 90, 92, 94, 95, 96, 98, 100]\n"
     ]
    }
   ],
   "source": [
    "#4:- SOLUTION\n",
    "\n",
    "#Using a for loop:\n",
    "cubes_divisible_by_4_or_5 = []\n",
    "\n",
    "for number in range(1, 101):\n",
    "    cube = number ** 3\n",
    "    if cube % 4 == 0 or cube % 5 == 0:\n",
    "        cubes_divisible_by_4_or_5.append(number)\n",
    "\n",
    "print(cubes_divisible_by_4_or_5)\n",
    "\n",
    "#Using a while loop:\n",
    "cubes_divisible_by_4_or_5 = []\n",
    "number = 1\n",
    "\n",
    "while number <= 100:\n",
    "    cube = number ** 3\n",
    "    if cube % 4 == 0 or cube % 5 == 0:\n",
    "        cubes_divisible_by_4_or_5.append(number)\n",
    "    number += 1\n",
    "\n",
    "print(cubes_divisible_by_4_or_5)\n",
    "\n",
    "        \n",
    "       "
   ]
  },
  {
   "cell_type": "code",
   "execution_count": 3,
   "id": "b856b197-86f7-4d7b-84c1-84b246fb7f2c",
   "metadata": {},
   "outputs": [
    {
     "name": "stdout",
     "output_type": "stream",
     "text": [
      "Count of vowels (using for loop): 12\n"
     ]
    }
   ],
   "source": [
    "# 5 :- SOLUTION\n",
    "\n",
    "string = \"I want to become a data scientist\"\n",
    "vowels = \"aeiouAEIOU\"\n",
    "\n",
    "# Using a for loop\n",
    "count_vowels = 0\n",
    "for char in string:\n",
    "    if char in vowels:\n",
    "        count_vowels += 1\n",
    "\n",
    "print(\"Count of vowels (using for loop):\", count_vowels)"
   ]
  },
  {
   "cell_type": "code",
   "execution_count": null,
   "id": "346d0f0f-25db-4f28-bd53-8f6f90d98b5a",
   "metadata": {},
   "outputs": [],
   "source": []
  }
 ],
 "metadata": {
  "kernelspec": {
   "display_name": "Python 3 (ipykernel)",
   "language": "python",
   "name": "python3"
  },
  "language_info": {
   "codemirror_mode": {
    "name": "ipython",
    "version": 3
   },
   "file_extension": ".py",
   "mimetype": "text/x-python",
   "name": "python",
   "nbconvert_exporter": "python",
   "pygments_lexer": "ipython3",
   "version": "3.10.8"
  }
 },
 "nbformat": 4,
 "nbformat_minor": 5
}
