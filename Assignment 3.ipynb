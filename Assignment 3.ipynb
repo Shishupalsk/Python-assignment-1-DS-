{
 "cells": [
  {
   "cell_type": "markdown",
   "id": "e1a36a64-34d0-4336-a3cd-d4dad641c944",
   "metadata": {},
   "source": [
    "Q1. Create a python program to sort the given list of tuples based on integer value using a \n",
    "lambda function. \n",
    "[('Sachin Tendulkar', 34357), ('Ricky Ponting', 27483), ('Jack Kallis', 25534), ('Virat Kohli', 24936)]\n",
    "\n",
    "Q2. Write a Python Program to find the squares of all the numbers in the given list of integers using \n",
    "lambda and map functions.\n",
    " [1, 2, 3, 4, 5, 6, 7, 8, 9, 10]\n",
    " \n",
    " Q3. Write a python program to convert the given list of integers into a tuple of strings. Use map and \n",
    "lambda functions\n",
    " Given String: [1, 2, 3, 4, 5, 6, 7, 8, 9, 10]\n",
    " Expected output: ('1', '2', '3', '4', '5', '6', '7', '8', '9', '10')\n",
    " \n",
    " Q4.  Write a python program using reduce function to compute the product of a list containing numbers \n",
    "from 1 to 25.\n",
    " \n",
    " Q5. Write a python program to filter the numbers in a given list that are divisible by 2 and 3 using the \n",
    "filter function.\n",
    " [2, 3, 6, 9, 27, 60, 90, 120, 55, 46]\n",
    " \n",
    " Q6. Write a python program to find palindromes in the given list of strings using lambda and filter \n",
    "function.\n",
    " ['python', 'php', 'aba', 'radar', 'level']"
   ]
  },
  {
   "cell_type": "code",
   "execution_count": 1,
   "id": "7383e099-1ddb-4ef7-a50e-ef198f0b21a5",
   "metadata": {},
   "outputs": [
    {
     "name": "stdout",
     "output_type": "stream",
     "text": [
      "Virat Kolhi: 24936 runs\n",
      "Jack Kallis: 25534 runs\n",
      "Ricky Ponting: 27483 runs\n",
      "Sachin Tendulkar: 34357 runs\n"
     ]
    }
   ],
   "source": [
    "# 1) Solution :- \n",
    "\n",
    "data = [ ('Sachin Tendulkar', 34357), ('Ricky Ponting', 27483), ('Jack Kallis', 25534),('Virat Kolhi' , 24936)]\n",
    "# sorting the list of tuples based on the integer value ( second element in each tuple)\n",
    "sorted_data = sorted(data, key=lambda x: x[1])\n",
    "\n",
    "# displaying the sorted_data:\n",
    "for player, runs in sorted_data:\n",
    "    print(f'{player}: {runs} runs')"
   ]
  },
  {
   "cell_type": "code",
   "execution_count": 3,
   "id": "9b84b4de-c8c5-4dbf-b7c7-13b5ba46f7c0",
   "metadata": {},
   "outputs": [
    {
     "name": "stdout",
     "output_type": "stream",
     "text": [
      "[1, 4, 9, 16, 25, 36, 49, 64, 81, 100]\n"
     ]
    }
   ],
   "source": [
    "# 2) Solution:- \n",
    "\n",
    "numbers = [1,2,3,4,5,6,7,8,9,10]\n",
    "squared_number = list(map(lambda x : x**2, numbers))\n",
    "print(squared_number)"
   ]
  },
  {
   "cell_type": "code",
   "execution_count": 4,
   "id": "8940c74d-c7aa-4b71-b35c-667d142e7d2f",
   "metadata": {},
   "outputs": [
    {
     "name": "stdout",
     "output_type": "stream",
     "text": [
      "('1', '2', '3', '4', '5', '6', '7', '8', '9', '10')\n"
     ]
    }
   ],
   "source": [
    "# 3) Solution :- \n",
    "\n",
    "numbers=[1,2,3,4,5,6,7,8,9,10]\n",
    "string_tuple= tuple(map(lambda x : str(x), numbers))\n",
    "print(string_tuple)"
   ]
  },
  {
   "cell_type": "code",
   "execution_count": 8,
   "id": "82cfc68b-ef99-4a25-ae2f-c2a651d64830",
   "metadata": {},
   "outputs": [
    {
     "name": "stdout",
     "output_type": "stream",
     "text": [
      "the product of the numbers from 1 to 25 is : 15511210043330985984000000\n"
     ]
    }
   ],
   "source": [
    "# 4) Solution :-\n",
    "\n",
    "from functools import reduce\n",
    "# using a list of numbers from 1 to 25\n",
    "numbers = list(range(1,26))\n",
    "\n",
    "# using reduce with lambda to compute the product\n",
    "product = reduce(lambda x,y :x*y, numbers)\n",
    "\n",
    "# displaying the product\n",
    "print(f'the product of the numbers from 1 to 25 is : {product}')"
   ]
  },
  {
   "cell_type": "code",
   "execution_count": 9,
   "id": "b0fcda44-f91c-4aef-a7b0-e875d2e331ff",
   "metadata": {},
   "outputs": [
    {
     "name": "stdout",
     "output_type": "stream",
     "text": [
      "[6, 60, 90, 120] these number is divisible by 2 and 3\n"
     ]
    }
   ],
   "source": [
    "# 5) Solution :- \n",
    "\n",
    "numbers = [2, 3, 6, 9, 27, 60, 90, 120, 55, 46]\n",
    "\n",
    "divisible_number = list(filter(lambda x : x%2==0 and x%3==0, numbers))\n",
    "\n",
    "print(f'{divisible_number} these number is divisible by 2 and 3')"
   ]
  },
  {
   "cell_type": "code",
   "execution_count": 11,
   "id": "b4f93ac3-9141-4050-bd13-496d296d9e84",
   "metadata": {},
   "outputs": [
    {
     "name": "stdout",
     "output_type": "stream",
     "text": [
      "given number is ['php', 'aba', 'level'] palidromes\n"
     ]
    }
   ],
   "source": [
    "# 6) Solution:- \n",
    "\n",
    "words = ['python', 'php', 'aba', 'rader', 'level' ]\n",
    "# Using filter with lambda to filter palindromes\n",
    "palindromes = list(filter(lambda x:x == x[::-1], words))\n",
    "# Displaying the palindromes\n",
    "print(f'given number is {palindromes} palidromes') "
   ]
  },
  {
   "cell_type": "code",
   "execution_count": null,
   "id": "18d9dc78-89b9-454f-8e6d-30ffaa5e9b8a",
   "metadata": {},
   "outputs": [],
   "source": []
  }
 ],
 "metadata": {
  "kernelspec": {
   "display_name": "Python 3 (ipykernel)",
   "language": "python",
   "name": "python3"
  },
  "language_info": {
   "codemirror_mode": {
    "name": "ipython",
    "version": 3
   },
   "file_extension": ".py",
   "mimetype": "text/x-python",
   "name": "python",
   "nbconvert_exporter": "python",
   "pygments_lexer": "ipython3",
   "version": "3.10.8"
  }
 },
 "nbformat": 4,
 "nbformat_minor": 5
}
