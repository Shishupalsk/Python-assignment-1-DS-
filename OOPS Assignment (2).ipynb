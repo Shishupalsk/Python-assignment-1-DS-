{
 "cells": [
  {
   "cell_type": "markdown",
   "id": "77593801-aaca-442b-91d7-65ae499e97c4",
   "metadata": {},
   "source": [
    "Q1. Create a function which will take a list as an argument and return the product of all the numbers \n",
    "after creating a flat list.\n",
    "\n",
    " Use the below-given list as an argument for your function.\n",
    " \n",
    " list1 = [1,2,3,4, [44,55,66, True], False, (34,56,78,89,34), {1,2,3,3,2,1}, {1:34, \"key2\": [55, 67, 78, 89], 4: (45, \n",
    "22, 61, 34)}, [56, 'data science'], 'Machine Learning']\n",
    "\n",
    " Note: you must extract numeric keys and values of the dictionary also.\n",
    " \n",
    " Q2. Write a python program for encrypting a message sent to you by your friend. The logic of encryption \n",
    "should be such that, for a the output should be z. For b, the output should be y. For c, the output should \n",
    "be x respectively. Also, the whitespace should be replaced with a dollar sign. Keep the punctuation \n",
    "marks unchanged.\n",
    "\n",
    " Input Sentence: I want to become a Data Scientist.\n",
    " \n",
    " Encrypt the above input sentence using the program you just created.\n",
    " \n",
    " Note: Convert the given input sentence into lowercase before encrypting. The final output should be \n",
    "lowercase."
   ]
  },
  {
   "cell_type": "code",
   "execution_count": 3,
   "id": "3e123bda-14c5-485a-adaa-76011c142010",
   "metadata": {},
   "outputs": [
    {
     "name": "stdout",
     "output_type": "stream",
     "text": [
      "0\n"
     ]
    }
   ],
   "source": [
    "# 1) Solution:-\n",
    "\n",
    "def flatten_and_multiply(lst):\n",
    "    flattened_list = []\n",
    "\n",
    "    def flatten(lst):\n",
    "        for item in lst:\n",
    "            if isinstance(item, (list, tuple, set)):\n",
    "                flatten(item)\n",
    "            elif isinstance(item, dict):\n",
    "                flatten(item.values())\n",
    "                flatten(item.keys())\n",
    "            elif isinstance(item, (int, float)):\n",
    "                flattened_list.append(item)\n",
    "\n",
    "    flatten(lst)\n",
    "    product = 1\n",
    "    for num in flattened_list:\n",
    "        product *= num\n",
    "    return product\n",
    "\n",
    "# Test the function\n",
    "list1 = [1, 2, 3, 4, [44, 55, 66, True], False, (34, 56, 78, 89, 34), {1, 2, 3, 3, 2, 1},\n",
    "         {1: 34, \"key2\": [55, 67, 78, 89], 4: (45, 22, 61, 34)}, [56, 'data science'], 'Machine Learning']\n",
    "\n",
    "print(flatten_and_multiply(list1))\n"
   ]
  },
  {
   "cell_type": "code",
   "execution_count": 5,
   "id": "1e238113-fcca-486e-a286-265f43c25cec",
   "metadata": {},
   "outputs": [
    {
     "name": "stdout",
     "output_type": "stream",
     "text": [
      "Original Sentence: I want to become a Data Scientist.\n",
      "Encrypted Message: r$dzmg$gl$yvxlnv$z$wzgz$hxrvmgrhg.\n"
     ]
    }
   ],
   "source": [
    "# 2) Solution :-\n",
    "\n",
    "def encrypt_message(message):\n",
    "    encrypted = \"\"\n",
    "    for char in message:\n",
    "        if char.isalpha():\n",
    "            offset = ord('a')\n",
    "            encrypted_char = chr(offset + (25 - (ord(char.lower()) - offset)))\n",
    "            encrypted += encrypted_char\n",
    "        elif char.isspace():\n",
    "            encrypted += '$'\n",
    "        else:\n",
    "            encrypted += char\n",
    "    return encrypted\n",
    "\n",
    "# Input sentence\n",
    "input_sentence = \"I want to become a Data Scientist.\"\n",
    "\n",
    "# Convert to lowercase and encrypt\n",
    "encrypted_message = encrypt_message(input_sentence.lower())\n",
    "\n",
    "# Output the encrypted message\n",
    "print(\"Original Sentence:\", input_sentence)\n",
    "print(\"Encrypted Message:\", encrypted_message)\n"
   ]
  },
  {
   "cell_type": "code",
   "execution_count": null,
   "id": "be535c0e-4597-4c0b-9e8c-d1562b0d680b",
   "metadata": {},
   "outputs": [],
   "source": []
  }
 ],
 "metadata": {
  "kernelspec": {
   "display_name": "Python 3 (ipykernel)",
   "language": "python",
   "name": "python3"
  },
  "language_info": {
   "codemirror_mode": {
    "name": "ipython",
    "version": 3
   },
   "file_extension": ".py",
   "mimetype": "text/x-python",
   "name": "python",
   "nbconvert_exporter": "python",
   "pygments_lexer": "ipython3",
   "version": "3.10.8"
  }
 },
 "nbformat": 4,
 "nbformat_minor": 5
}
