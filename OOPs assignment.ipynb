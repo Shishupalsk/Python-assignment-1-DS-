{
 "cells": [
  {
   "cell_type": "markdown",
   "id": "bf6c4241-eb1a-419f-bb13-21f0187d1e5d",
   "metadata": {},
   "source": [
    " Q1. Explain Class and Object with respect to Object-Oriented Programming. Give a suitable example.\n",
    " \n",
    " Q2. Name the four pillars of OOPs.\n",
    " \n",
    " Q3. Explain why the __init__() function is used. Give a suitable example.\n",
    " \n",
    " Q4. Why self is used in OOPs?\n",
    " \n",
    " Q5. What is inheritance? Give an example for each type of inheritance."
   ]
  },
  {
   "cell_type": "code",
   "execution_count": 2,
   "id": "c7c3c552-140b-4568-aa73-ad9bc0dde4fd",
   "metadata": {},
   "outputs": [
    {
     "name": "stdout",
     "output_type": "stream",
     "text": [
      "Toyota Camry is a Automobile manufactured in 2022.\n",
      "Honda Accord is a Automobile manufactured in 2021.\n",
      "The 2022 Toyota Camry is now running.\n",
      "The 2021 Honda Accord is now running.\n",
      "The 2022 Toyota Camry has stopped.\n"
     ]
    }
   ],
   "source": [
    "# 1) Solution :-\n",
    "'''In object-oriented programming (OOP), a class is a blueprint or \n",
    "template for creating objects. It defines a set of attributes (data \n",
    "members) and methods (functions) that characterize any object \n",
    "created from that class. An object, on the other hand, is an instance of a class - a\n",
    "concrete realization of the class blueprint, with its own unique data.'''\n",
    "# Define a simple class called 'Car'\n",
    "class Car:\n",
    "    # Class attribute\n",
    "    category = \"Automobile\"\n",
    "\n",
    "    # Constructor method to initialize instance variables\n",
    "    def __init__(self, make, model, year):\n",
    "        # Instance attributes\n",
    "        self.make = make\n",
    "        self.model = model\n",
    "        self.year = year\n",
    "        self.is_running = False\n",
    "\n",
    "    # Method to start the car\n",
    "    def start(self):\n",
    "        self.is_running = True\n",
    "        print(f\"The {self.year} {self.make} {self.model} is now running.\")\n",
    "\n",
    "    # Method to stop the car\n",
    "    def stop(self):\n",
    "        self.is_running = False\n",
    "        print(f\"The {self.year} {self.make} {self.model} has stopped.\")\n",
    "\n",
    "# Create objects (instances) of the 'Car' class\n",
    "car1 = Car(\"Toyota\", \"Camry\", 2022)\n",
    "car2 = Car(\"Honda\", \"Accord\", 2021)\n",
    "\n",
    "# Access attributes of objects\n",
    "print(f\"{car1.make} {car1.model} is a {car1.category} manufactured in {car1.year}.\")\n",
    "print(f\"{car2.make} {car2.model} is a {car2.category} manufactured in {car2.year}.\")\n",
    "\n",
    "# Invoke methods on objects\n",
    "car1.start()\n",
    "car2.start()\n",
    "car1.stop()\n",
    "\n"
   ]
  },
  {
   "cell_type": "raw",
   "id": "e574e78f-dae6-45b9-a1c9-89a25e5b8cfa",
   "metadata": {},
   "source": [
    " 2) Solution :-\n",
    "\n",
    "The four pillars of object-oriented programming (OOP) are:\n",
    "\n",
    "i) Encapsulation: It involves bundling the data (attributes) and the methods (functions) that operate on the data into a single unit called a class. Encapsulation restricts access to some of an object's components and prevents the accidental modification of data.\n",
    "\n",
    "ii) Abstraction: Abstraction involves simplifying complex systems by modeling classes based on the essential characteristics and ignoring unnecessary details. It provides a clear separation between what an object does and how it achieves that functionality.\n",
    "\n",
    "iii) Inheritance: Inheritance allows a class (subclass or derived class) to inherit the attributes and methods of another class (superclass or base class). It promotes code reusability and the creation of a hierarchical structure in which a new class can be built upon an existing class.\n",
    "\n",
    "iv) Polymorphism: Polymorphism allows objects of different types to be treated as objects of a common type. It enables a single interface to represent different types, and it can be achieved through method overloading (having multiple methods with the same name but different parameters) and method overriding (providing a specific implementation in the subclass).\n"
   ]
  },
  {
   "cell_type": "code",
   "execution_count": 4,
   "id": "17357119-5055-4287-a51d-f1076baaa2e4",
   "metadata": {},
   "outputs": [
    {
     "name": "stdout",
     "output_type": "stream",
     "text": [
      "Buddy is 3 years old.\n",
      "Max is 2 years old.\n",
      "Buddy says Woof!\n",
      "Max says Woof!\n",
      "Buddy is being fed.\n",
      "Max is being fed.\n"
     ]
    }
   ],
   "source": [
    "# 3) Solution :-\n",
    "\n",
    "class Dog:\n",
    "    def __init__(self, name, age):\n",
    "        \n",
    "        # Initializing attributes\n",
    "        self.name = name\n",
    "        self.age = age\n",
    "        self.is_hungry = True\n",
    "\n",
    "    def bark(self):\n",
    "        print(f\"{self.name} says Woof!\")\n",
    "\n",
    "    def feed(self):\n",
    "        if self.is_hungry:\n",
    "            print(f\"{self.name} is being fed.\")\n",
    "            self.is_hungry = False\n",
    "        else:\n",
    "            print(f\"{self.name} is not hungry.\")\n",
    "\n",
    "# Creating instances of the Dog class\n",
    "dog1 = Dog(\"Buddy\", 3)\n",
    "dog2 = Dog(\"Max\", 2)\n",
    "\n",
    "# Accessing attributes\n",
    "print(f\"{dog1.name} is {dog1.age} years old.\")\n",
    "print(f\"{dog2.name} is {dog2.age} years old.\")\n",
    "\n",
    "# Calling methods\n",
    "dog1.bark()\n",
    "dog2.bark()\n",
    "\n",
    "# Feeding the dogs\n",
    "dog1.feed()\n",
    "dog2.feed()\n",
    "\n"
   ]
  },
  {
   "cell_type": "code",
   "execution_count": 7,
   "id": "43b97584-f64c-4ed0-a04b-5f654c4bfe6c",
   "metadata": {},
   "outputs": [
    {
     "name": "stdout",
     "output_type": "stream",
     "text": [
      "Buddy says woof!\n"
     ]
    }
   ],
   "source": [
    "# 4) Solution:-\n",
    "'''The use of 'self' is essential for several reasons:-\n",
    "\n",
    "1. Instance Reference: self is used to refer to the instance of the class. It allows you to access and modify the attributes and methods of the specific object that the method is being called on.\n",
    "2. Attribute Access: Inside class methods, self is used to access the instance's attributes. When you create an instance of a class, self helps differentiate between instance variables and local variables within the method.\n",
    "3. Method Invocation: When a method is called on an object, self ensures that the correct instance of the object is referenced, and the method operates on the data associated with that instance.\n",
    "'''\n",
    "\n",
    "class Dog:\n",
    "    def __init__(self,name, age):\n",
    "        self.name = name\n",
    "        self.age = age\n",
    "        \n",
    "    def bark(self):\n",
    "        print(f\"{self.name} says woof!\")\n",
    "        \n",
    "my_dog = Dog(\"Buddy\", 3)\n",
    "\n",
    "my_dog.bark()\n"
   ]
  },
  {
   "cell_type": "code",
   "execution_count": 8,
   "id": "b188345c-9c51-48ec-b698-cebd1212bce9",
   "metadata": {},
   "outputs": [
    {
     "name": "stdout",
     "output_type": "stream",
     "text": [
      "Animal speaks\n",
      "Dog barks\n"
     ]
    }
   ],
   "source": [
    "# 5) Solution :-\n",
    "\n",
    "\"\"\"i) In single inheritance, a class inherits from only one superclass.\"\"\"\n",
    "\n",
    "class Animal:\n",
    "    def speak(self):\n",
    "        print(\"Animal speaks\")\n",
    "\n",
    "class Dog(Animal):\n",
    "    def bark(self):\n",
    "        print(\"Dog barks\")\n",
    "\n",
    "# Example usage\n",
    "my_dog = Dog()\n",
    "my_dog.speak()  # Inherited method from Animal class\n",
    "my_dog.bark()   # Method specific to Dog class\n",
    "\n"
   ]
  },
  {
   "cell_type": "code",
   "execution_count": 9,
   "id": "d41176eb-a219-4d7d-a089-fd0dc0a98c32",
   "metadata": {},
   "outputs": [
    {
     "name": "stdout",
     "output_type": "stream",
     "text": [
      "Method A\n",
      "Method B\n",
      "Method C\n"
     ]
    }
   ],
   "source": [
    "\"\"\"5 ii) In multiple inheritance, a class can inherit from more than one superclass.\"\"\"\n",
    "class A:\n",
    "    def method_A(self):\n",
    "        print(\"Method A\")\n",
    "\n",
    "class B:\n",
    "    def method_B(self):\n",
    "        print(\"Method B\")\n",
    "\n",
    "class C(A, B):\n",
    "    def method_C(self):\n",
    "        print(\"Method C\")\n",
    "\n",
    "# Example usage\n",
    "obj_c = C()\n",
    "obj_c.method_A()  # Inherited from class A\n",
    "obj_c.method_B()  # Inherited from class B\n",
    "obj_c.method_C()  # Method specific to class C\n"
   ]
  },
  {
   "cell_type": "code",
   "execution_count": 10,
   "id": "66a9e74c-9c5d-4aec-ab0b-53038603adc8",
   "metadata": {},
   "outputs": [
    {
     "name": "stdout",
     "output_type": "stream",
     "text": [
      "Vehicle started\n",
      "Car is being driven\n",
      "Sports car is racing\n"
     ]
    }
   ],
   "source": [
    "\"\"\" 5 iii) In multilevel inheritance, a class can inherit from another class, and then another class can inherit from it, forming a chain.\"\"\"\n",
    "class Vehicle:\n",
    "    def start(self):\n",
    "        print(\"Vehicle started\")\n",
    "\n",
    "class Car(Vehicle):\n",
    "    def drive(self):\n",
    "        print(\"Car is being driven\")\n",
    "\n",
    "class SportsCar(Car):\n",
    "    def race(self):\n",
    "        print(\"Sports car is racing\")\n",
    "\n",
    "# Example usage\n",
    "my_sports_car = SportsCar()\n",
    "my_sports_car.start()  # Inherited from Vehicle class\n",
    "my_sports_car.drive()  # Inherited from Car class\n",
    "my_sports_car.race()   # Method specific to SportsCar class\n"
   ]
  },
  {
   "cell_type": "code",
   "execution_count": 11,
   "id": "8db7178f-5216-4aea-86a6-cc10bd0b23e7",
   "metadata": {},
   "outputs": [
    {
     "name": "stdout",
     "output_type": "stream",
     "text": [
      "Drawing shape\n",
      "Drawing circle\n",
      "Drawing shape\n",
      "Drawing rectangle\n"
     ]
    }
   ],
   "source": [
    "\"\"\"5 iv) In hierarchical inheritance, multiple classes inherit from a single superclass.\"\"\"\n",
    "class Shape:\n",
    "    def draw(self):\n",
    "        print(\"Drawing shape\")\n",
    "\n",
    "class Circle(Shape):\n",
    "    def draw_circle(self):\n",
    "        print(\"Drawing circle\")\n",
    "\n",
    "class Rectangle(Shape):\n",
    "    def draw_rectangle(self):\n",
    "        print(\"Drawing rectangle\")\n",
    "\n",
    "# Example usage\n",
    "my_circle = Circle()\n",
    "my_circle.draw()          # Inherited from Shape class\n",
    "my_circle.draw_circle()   # Method specific to Circle class\n",
    "\n",
    "my_rectangle = Rectangle()\n",
    "my_rectangle.draw()       # Inherited from Shape class\n",
    "my_rectangle.draw_rectangle()  # Method specific to Rectangle class\n"
   ]
  },
  {
   "cell_type": "code",
   "execution_count": null,
   "id": "78af0dcb-1057-4f22-9d38-ba925e720543",
   "metadata": {},
   "outputs": [],
   "source": []
  }
 ],
 "metadata": {
  "kernelspec": {
   "display_name": "Python 3 (ipykernel)",
   "language": "python",
   "name": "python3"
  },
  "language_info": {
   "codemirror_mode": {
    "name": "ipython",
    "version": 3
   },
   "file_extension": ".py",
   "mimetype": "text/x-python",
   "name": "python",
   "nbconvert_exporter": "python",
   "pygments_lexer": "ipython3",
   "version": "3.10.8"
  }
 },
 "nbformat": 4,
 "nbformat_minor": 5
}
