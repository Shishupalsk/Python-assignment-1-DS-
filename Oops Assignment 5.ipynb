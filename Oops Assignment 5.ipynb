{
 "cells": [
  {
   "cell_type": "markdown",
   "id": "5a11e0c3-56e8-4381-87ce-317aabb8afc8",
   "metadata": {},
   "source": [
    " Q1, Create a vehicle class with an init method having instance variables as name_of_vehicle, max_speed \n",
    "and average_of_vehicle. \n",
    "\n",
    "Q2.  Create a child class car from the vehicle class created in Que 1, which will inherit the vehicle class. \n",
    "Create a method named seating_capacity which takes capacity as an argument and returns the name of \n",
    "the vehicle and its seating capacity.\n",
    "\n",
    " Q3. What is multiple inheritance? Write a python code to demonstrate multiple inheritance.\n",
    " \n",
    " Q4. What are getter and setter in python? Create a class and create a getter and a setter method in this \n",
    "class.\n",
    "\n",
    " Q5.What is method overriding in python? Write a python code to demonstrate method overriding."
   ]
  },
  {
   "cell_type": "code",
   "execution_count": 12,
   "id": "ae6aa6a5-59e5-42ba-bb8b-d118a0e0f7e0",
   "metadata": {},
   "outputs": [
    {
     "name": "stdout",
     "output_type": "stream",
     "text": [
      "Name of Vehicle:  Toyota Camry\n",
      "Max speed:  180\n",
      "average speed:  30\n"
     ]
    }
   ],
   "source": [
    "# 1) Solution:-\n",
    "\n",
    "class Vehicle:\n",
    "    def __init__(self,name_of_vehicle, max_speed, average_of_vehicle):\n",
    "        self.name_of_vehicle = name_of_vehicle\n",
    "        self.max_speed = max_speed\n",
    "        self.average_of_vehicle = average_of_vehicle\n",
    "        \n",
    "# example usage:\n",
    "car = Vehicle(\"Toyota Camry\", 180,30)\n",
    "print(\"Name of Vehicle: \", car.name_of_vehicle)\n",
    "print(\"Max speed: \", car.max_speed)\n",
    "print(\"average speed: \", car.average_of_vehicle)"
   ]
  },
  {
   "cell_type": "code",
   "execution_count": 13,
   "id": "0e7fa846-54ef-4669-a932-743f19d2c1e1",
   "metadata": {},
   "outputs": [
    {
     "name": "stdout",
     "output_type": "stream",
     "text": [
      "name of vehicle:  Toyota Camry\n",
      "max speed:  180\n",
      "average spped:  30\n",
      "Toyota Camry has a seating capacity of 5 \n"
     ]
    }
   ],
   "source": [
    "# 2) Solution :- \n",
    "\n",
    "class Car(Vehicle):\n",
    "    def __init__(self, name_of_vehicle, max_speed, average_of_vehicle):\n",
    "        # Call the constructor of the parent class (Vehicle)\n",
    "        super().__init__(name_of_vehicle, max_speed, average_of_vehicle)\n",
    "    \n",
    "    def seating_capacity(self, capacity):\n",
    "        return f\"{self.name_of_vehicle} has a seating capacity of {capacity} \"\n",
    "    \n",
    "# Example usage:\n",
    "car_instance = Car(\"Toyota Camry\", 180,30)\n",
    "print(\"name of vehicle: \", car_instance.name_of_vehicle)\n",
    "print(\"max speed: \", car_instance.max_speed)\n",
    "print(\"average spped: \", car_instance.average_of_vehicle)\n",
    "\n",
    "# call the seating_capacity method\n",
    "capacity_result = car_instance.seating_capacity(5)\n",
    "print(capacity_result)"
   ]
  },
  {
   "cell_type": "code",
   "execution_count": 14,
   "id": "82634a4b-1e1d-4bfe-a046-35d864004cad",
   "metadata": {},
   "outputs": [
    {
     "name": "stdout",
     "output_type": "stream",
     "text": [
      "Engine started.\n",
      "Charging the electric vehicle. \n",
      "Hybrid car is now driving.\n"
     ]
    }
   ],
   "source": [
    "# 3) Solution :-\n",
    "\n",
    "\"\"\"Multiple inheritance is a feature in object-oriented programming languages,\n",
    "including Python, where a class can inherit attributes and methods from more than\n",
    "one parent class. This allows a child class to inherit from multiple classes,\n",
    "incorporating features from all of them.\"\"\"\n",
    "\n",
    "# Example:-\n",
    "class Engine:\n",
    "    def start(self):\n",
    "        return\"Engine started.\"\n",
    "class ElectricVehicle:\n",
    "    def charge(self):\n",
    "        return\"Charging the electric vehicle. \"\n",
    "class HybridCar(Engine, ElectricVehicle):\n",
    "    def drive(self):\n",
    "        return \"Hybrid car is now driving.\"\n",
    "\n",
    "# Create an instance of the HybridCar class\n",
    "hybrid_car = HybridCar()\n",
    "\n",
    "# Accessing methods from the Engine class\n",
    "print(hybrid_car.start())\n",
    "\n",
    "# Accessing methods from the ElectricVehicle class\n",
    "print(hybrid_car.charge())\n",
    "\n",
    "# Accessing method from the HybridCar class\n",
    "print(hybrid_car.drive())"
   ]
  },
  {
   "cell_type": "code",
   "execution_count": 21,
   "id": "620cfb29-2300-4dd2-a2c4-9cd319da2121",
   "metadata": {},
   "outputs": [
    {
     "name": "stdout",
     "output_type": "stream",
     "text": [
      "make:  Toyota\n",
      "model:  Camry\n",
      "year:  2020\n",
      "updated make:  Honda\n",
      "updated model:  Accord\n",
      "updated year:  2023\n"
     ]
    }
   ],
   "source": [
    "# 4) Solution:- \n",
    "\"\"\"In Python, getter and setter methods are used to control the access and\n",
    "modification of class attributes. They allow you to encapsulate the internal\n",
    "representation of an object and provide a controlled interface for accessing \n",
    "and modifying its attributes.\"\"\"\n",
    "\n",
    "# Example:-\n",
    "\n",
    "class Car:\n",
    "    def __init__(self, make, model, year):\n",
    "        self._make = make # Note: Prefixing with '_' indicates it's a protected attribute\n",
    "        self._model = model\n",
    "        self._year = year\n",
    "        \n",
    "    # Getter method for 'make'\n",
    "    def get_make(self):\n",
    "        return self._make\n",
    "    \n",
    "    # Getter method for 'model'\n",
    "    def get_model(self):\n",
    "        return self._model\n",
    "    \n",
    "    # Getter method for 'year'\n",
    "    def get_year(self):\n",
    "        return self._year\n",
    "    \n",
    "    # Setter method for 'make'\n",
    "    def set_make(self, make):\n",
    "        self._make =make\n",
    "        \n",
    "    # Setter method for'model'\n",
    "    def set_model(self, model):\n",
    "        self._model= model\n",
    "        \n",
    "    # Setter method for 'year'\n",
    "    def set_year(self, year):\n",
    "        self._year = year\n",
    "        \n",
    "    # Example usage:-\n",
    "    car_instance = Car(\"Toyota\", \"Camry\", 2020)\n",
    "    \n",
    "    # using getter methods\n",
    "    print(\"make: \", car_instance.get_make())\n",
    "    print(\"model: \", car_instance.get_model())\n",
    "    print(\"year: \", car_instance.get_year())\n",
    "    \n",
    "    # using setter methods\n",
    "    car_instance.set_make(\"Honda\")\n",
    "    car_instance.set_model(\"Accord\")\n",
    "    car_instance.set_year(2023)\n",
    "    \n",
    "    # diplaying updated values using getter methods\n",
    "    print(\"updated make: \", car_instance.get_make())\n",
    "    print(\"updated model: \", car_instance.get_model())\n",
    "    print(\"updated year: \", car_instance.get_year())\n"
   ]
  },
  {
   "cell_type": "code",
   "execution_count": 24,
   "id": "d2d82406-41fb-498d-989a-cf3834b223f9",
   "metadata": {},
   "outputs": [
    {
     "name": "stdout",
     "output_type": "stream",
     "text": [
      "Dog says:  Dog barks.\n",
      "Cat says:   Cat meows.\n"
     ]
    }
   ],
   "source": [
    "# 5) Solution:-\n",
    "\n",
    "class Animal:\n",
    "    def speak(self):\n",
    "        return\"Animal speaks.\"\n",
    "class Dog(Animal):\n",
    "    # Overriding the speak method from the parent class\n",
    "    def speak(self):\n",
    "        return\"Dog barks.\"\n",
    "    \n",
    "class Cat(Animal):\n",
    "    # Overriding the speak method from the parent class\n",
    "    def speak(self):\n",
    "        return \" Cat meows.\"\n",
    "    \n",
    "# create intsnaces of the child classes\n",
    "dog_instance = Dog()\n",
    "cat_instance = Cat()\n",
    "\n",
    "# Call the overridden speak method for each instance\n",
    "print(\"Dog says: \", dog_instance.speak())\n",
    "print(\"Cat says: \", cat_instance.speak())\n",
    "    "
   ]
  },
  {
   "cell_type": "code",
   "execution_count": null,
   "id": "1b3ed5d5-6608-431a-a687-f0d8c6ceb2eb",
   "metadata": {},
   "outputs": [],
   "source": []
  }
 ],
 "metadata": {
  "kernelspec": {
   "display_name": "Python 3 (ipykernel)",
   "language": "python",
   "name": "python3"
  },
  "language_info": {
   "codemirror_mode": {
    "name": "ipython",
    "version": 3
   },
   "file_extension": ".py",
   "mimetype": "text/x-python",
   "name": "python",
   "nbconvert_exporter": "python",
   "pygments_lexer": "ipython3",
   "version": "3.10.8"
  }
 },
 "nbformat": 4,
 "nbformat_minor": 5
}
