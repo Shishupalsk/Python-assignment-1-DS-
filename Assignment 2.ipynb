{
 "cells": [
  {
   "cell_type": "markdown",
   "id": "7bab0525-7900-4596-80c3-8df6e4b995d3",
   "metadata": {},
   "source": [
    "Q1. Which keyword is used to create a function? Create a function to return a list of odd numbers in the \n",
    "range of 1 to 25.\n",
    " \n",
    " Q2. Why *args and **kwargs is used in some functions? Create a function each for *args and **kwargs \n",
    "to demonstrate their use.\n",
    "\n",
    "Q3.  What is an iterator in python? Name the method used to initialise the iterator object and the method \n",
    "used for iteration. Use these methods to print the first five elements of the given list [2,4, 6, 8, 10, 12, 14, \n",
    "16, 18, 20]. \n",
    " \n",
    " Q4.  What is a generator function in python? Why yield keyword is used? Give an example of a generator \n",
    "function.\n",
    " \n",
    " Q5. Create a generator function for prime numbers less than 1000. Use the next() method to print the \n",
    "first 20 prime numbers.\n",
    " \n",
    " Q6. Write a python program to print the first 10 Fibonacci numbers using a while loop.\n",
    " \n",
    " Q7. Write a List Comprehension to iterate through the given string: ‘pwskills’.\n",
    " Expected output: ['p', 'w', 's', 'k', 'i', 'l', 'l', 's'] \n",
    "\n",
    "Q8. Write a python program to check whether a given number is Palindrome or not using a while loop.\n",
    " \n",
    " Q9. Write a code to print odd numbers from 1 to 100 using list comprehension.\n",
    " Note: Use a list comprehension to create a list from 1 to 100 and use another List comprehension to filter \n",
    "out odd numbers"
   ]
  },
  {
   "cell_type": "code",
   "execution_count": 2,
   "id": "19b629a3-3f8b-41be-abe7-cfaf9e3a63a5",
   "metadata": {},
   "outputs": [
    {
     "name": "stdout",
     "output_type": "stream",
     "text": [
      "[1, 3, 5, 7, 9, 11, 13, 15, 17, 19, 21, 23, 25]\n"
     ]
    }
   ],
   "source": [
    "# 1) Solution:- \n",
    "\n",
    "def odd_numbers():\n",
    "    return[num for num in range(1,26) if num % 2!=0]\n",
    "print(odd_numbers())\n"
   ]
  },
  {
   "cell_type": "code",
   "execution_count": 4,
   "id": "7d6cbe78-a54c-4cc4-8853-66c8f54c0720",
   "metadata": {},
   "outputs": [
    {
     "name": "stdout",
     "output_type": "stream",
     "text": [
      "15\n",
      "name:SHISHUPAL\n",
      "age:21\n",
      "city:kolkata\n"
     ]
    }
   ],
   "source": [
    "# 2) Solution :-\n",
    "\n",
    "# '*args' is used to pass a variable number of non-keyword arguments to a function. \n",
    "# It allows you to pass any number of arguments to the function as a tuple.\n",
    "\n",
    "# '**kwargs' is used to pass a variable number of keyword arguments to a function.\n",
    "# It allows you to pass any number of keyword arguments to the function as a dictionary.\n",
    "\n",
    "# function using *args\n",
    "\n",
    "def sum_all(*args):\n",
    "    total = 0\n",
    "    for num in args:\n",
    "        total += num\n",
    "    return total\n",
    "print (sum_all (1,2,3,4,5))\n",
    "\n",
    "# function using **kwargs\n",
    "\n",
    "def display_info(**kwargs):\n",
    "    for key, value in kwargs.items():\n",
    "        print(f\"{key}:{value}\")\n",
    "display_info(name=\"SHISHUPAL\", age=21, city = \"kolkata\")        "
   ]
  },
  {
   "cell_type": "code",
   "execution_count": 5,
   "id": "fc80e165-1a20-49d9-a9f2-6c689d3d2785",
   "metadata": {},
   "outputs": [
    {
     "name": "stdout",
     "output_type": "stream",
     "text": [
      "2\n",
      "4\n",
      "6\n",
      "8\n",
      "10\n"
     ]
    }
   ],
   "source": [
    "# 3) Solution :- \n",
    "\n",
    "# '__iter__': This method is called when an iterator object is required.\n",
    "# It should return the iterator object itself.\n",
    "\n",
    "# '__next__': This method is called to get the next value from the iterator. \n",
    "# It should raise StopIteration when there are no more items to return.\n",
    "\n",
    "# Create an iterator for the list\n",
    "my_list = [2, 4, 6, 8, 10, 12, 14, 16, 18, 20]\n",
    "my_iterator = iter(my_list)\n",
    "\n",
    "# Iterate and print the first five elements\n",
    "for _ in range(5):\n",
    "    element = next(my_iterator)\n",
    "    print(element)\n"
   ]
  },
  {
   "cell_type": "code",
   "execution_count": 7,
   "id": "f47196ca-e2c5-4d5d-b5e9-8bc69043899e",
   "metadata": {},
   "outputs": [
    {
     "name": "stdout",
     "output_type": "stream",
     "text": [
      "5\n",
      "4\n",
      "3\n",
      "2\n",
      "1\n"
     ]
    }
   ],
   "source": [
    "# 4) Solution :-\n",
    "# Generator function is a special type of function that allows you to iterate over a potentially large sequence of items without loading the entire sequence into memory. It uses the yield keyword to produce a series of values while maintaining its state between calls.\n",
    "# The yield keyword is used in a generator function to produce a value and temporarily suspend the function's state. When the generator is iterated over, the function will resume execution from where it was suspended, allowing it to produce the next value in the sequence. This makes generators memory-efficient for handling large datasets or infinite sequences.\n",
    "\n",
    "def countdown(n):\n",
    "    while n>0:\n",
    "        yield n\n",
    "        n-=1\n",
    "\n",
    "# using the generator function\n",
    "for number in countdown(5):\n",
    "    print(number)"
   ]
  },
  {
   "cell_type": "code",
   "execution_count": 9,
   "id": "35e29ba8-ca4c-4245-a97c-6a5512b883a8",
   "metadata": {},
   "outputs": [
    {
     "name": "stdout",
     "output_type": "stream",
     "text": [
      "2\n",
      "3\n",
      "5\n",
      "7\n",
      "11\n",
      "13\n",
      "17\n",
      "19\n",
      "23\n",
      "29\n",
      "31\n",
      "37\n",
      "41\n",
      "43\n",
      "47\n",
      "53\n",
      "59\n",
      "61\n",
      "67\n",
      "71\n"
     ]
    }
   ],
   "source": [
    "# 5) Solution :-\n",
    "\n",
    "def generate_primes():\n",
    "    primes = []\n",
    "    num =2\n",
    "    \n",
    "    while num<1000:\n",
    "        is_prime = all (num % i != 0 for i in primes)\n",
    "        if is_prime:\n",
    "            yield num\n",
    "            primes.append(num)\n",
    "            \n",
    "        num +=1\n",
    "\n",
    "prime_generator = generate_primes()\n",
    "\n",
    "for _ in range (20):\n",
    "    print(next(prime_generator))"
   ]
  },
  {
   "cell_type": "code",
   "execution_count": 10,
   "id": "268f5034-7b92-472e-a2c1-d82ce85533bd",
   "metadata": {},
   "outputs": [
    {
     "name": "stdout",
     "output_type": "stream",
     "text": [
      "0\n",
      "1\n",
      "1\n",
      "2\n",
      "3\n",
      "5\n",
      "8\n",
      "13\n",
      "21\n",
      "34\n"
     ]
    }
   ],
   "source": [
    "# 6) Solution :-\n",
    "# Initialize variables to store the first two Fibonacci numbers\n",
    "fibonacci_numbers = [0, 1]\n",
    "\n",
    "# Use a while loop to generate the next 8 Fibonacci numbers\n",
    "while len(fibonacci_numbers) < 10:\n",
    "    # Calculate the next Fibonacci number by adding the last two numbers\n",
    "    next_fibonacci = fibonacci_numbers[-1] + fibonacci_numbers[-2]\n",
    "    # Append the next Fibonacci number to the list\n",
    "    fibonacci_numbers.append(next_fibonacci)\n",
    "\n",
    "# Print the first 10 Fibonacci numbers\n",
    "for number in fibonacci_numbers:\n",
    "    print(number)\n",
    "\n"
   ]
  },
  {
   "cell_type": "code",
   "execution_count": 11,
   "id": "337e2304-98ec-440d-b0a5-dd38215c450f",
   "metadata": {},
   "outputs": [
    {
     "name": "stdout",
     "output_type": "stream",
     "text": [
      "['p', 'w', 's', 'k', 'i', 'l', 'l', 's']\n"
     ]
    }
   ],
   "source": [
    "# 7)Solution :-\n",
    "\n",
    "input_string = 'pwskills'\n",
    "\n",
    "result_list = [char for char in input_string]\n",
    "\n",
    "print(result_list)\n"
   ]
  },
  {
   "cell_type": "code",
   "execution_count": 14,
   "id": "295943a2-d70f-4610-893b-8cfccb390c50",
   "metadata": {},
   "outputs": [
    {
     "name": "stdin",
     "output_type": "stream",
     "text": [
      "Enter a number:  22122\n"
     ]
    },
    {
     "name": "stdout",
     "output_type": "stream",
     "text": [
      "22122 is a palindrome.\n"
     ]
    }
   ],
   "source": [
    "# 8) Solution:-\n",
    "def is_palindrome(number):\n",
    "    original_number = number\n",
    "    reversed_number = 0\n",
    "\n",
    "    while number > 0:\n",
    "        digit = number % 10\n",
    "        reversed_number = (reversed_number * 10) + digit\n",
    "        number = number // 10\n",
    "\n",
    "    return original_number == reversed_number\n",
    "\n",
    "# Example usage\n",
    "user_input = int(input(\"Enter a number: \"))\n",
    "\n",
    "if is_palindrome(user_input):\n",
    "    print(f\"{user_input} is a palindrome.\")\n",
    "else:\n",
    "    print(f\"{user_input} is not a palindrome.\")\n",
    "\n"
   ]
  },
  {
   "cell_type": "code",
   "execution_count": null,
   "id": "c7696c0b-a988-4845-9e99-9b2ed4341914",
   "metadata": {},
   "outputs": [],
   "source": [
    "# 9) Solution :-\n",
    "\n"
   ]
  }
 ],
 "metadata": {
  "kernelspec": {
   "display_name": "Python 3 (ipykernel)",
   "language": "python",
   "name": "python3"
  },
  "language_info": {
   "codemirror_mode": {
    "name": "ipython",
    "version": 3
   },
   "file_extension": ".py",
   "mimetype": "text/x-python",
   "name": "python",
   "nbconvert_exporter": "python",
   "pygments_lexer": "ipython3",
   "version": "3.10.8"
  }
 },
 "nbformat": 4,
 "nbformat_minor": 5
}
